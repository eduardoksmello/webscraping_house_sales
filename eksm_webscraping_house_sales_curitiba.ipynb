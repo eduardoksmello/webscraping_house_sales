{
 "cells": [
  {
   "cell_type": "markdown",
   "id": "b4fe1b28",
   "metadata": {},
   "source": [
    "# Objetivo\n",
    "\n",
    "Realizar processo de coleta de dados estruturados da web de maneira automatizada (web scraping) de site de imóveis residenciais de Curitiba (Brasil)."
   ]
  },
  {
   "cell_type": "markdown",
   "id": "0a9272ee",
   "metadata": {},
   "source": [
    "# Procedimentos\n",
    "- Importar bibliotecas\n",
    "- Estabelecer conexão com o site 'portalimoveiscuritiba.com.br'\n",
    "- Coletas de dados\n",
    "- Criação de ficheiro"
   ]
  },
  {
   "cell_type": "markdown",
   "id": "aa4e86b7",
   "metadata": {},
   "source": [
    "# Bibliotecas"
   ]
  },
  {
   "cell_type": "code",
   "execution_count": 1,
   "id": "8799af0b",
   "metadata": {},
   "outputs": [],
   "source": [
    "# importando bibliotecas\n",
    "from urllib.request import urlopen, urlretrieve, Request\n",
    "from urllib.error import URLError, HTTPError\n",
    "import urllib.request as urllib_request\n",
    "from bs4 import BeautifulSoup\n",
    "import pandas as pd"
   ]
  },
  {
   "cell_type": "markdown",
   "id": "048faee1",
   "metadata": {},
   "source": [
    "# Conexão com o site"
   ]
  },
  {
   "cell_type": "code",
   "execution_count": 13,
   "id": "3304fda1",
   "metadata": {},
   "outputs": [
    {
     "name": "stdout",
     "output_type": "stream",
     "text": [
      "b'<!DOCTYPE html PUBLIC \"-//W3C//DTD HTML 4.01 Transitional//EN\" \"https://www.w3.org/TR/html4/loose.dtd\">\\n<html>\\n    <head>\\n    <meta http-equiv=\"Content-Type\" content=\"text/html; charset=UTF-8\">\\n    <meta name=\"viewport\" content=\"width=device-width, initial-scale=1\">\\n        <meta property=\"og:type\" content=\"website\" />\\n        <meta property=\"og:title\" content=\"Portal Im\\xc3\\xb3veis Curitiba\" />\\n        <meta property=\"og:description\" content=\"Portal im\\xc3\\xb3veis curitiba. Imobili\\xc3\\xa1rias em Curitiba e Regi\\xc3\\xa3o. Apartamentos e casas para alugar em curitiba. Procurando im\\xc3\\xb3veis em curitiba? Veja ofertas!\" />\\n        <meta property=\"og:url\" content=\"https://portalimoveiscuritiba.com.br/imoveis?nidtbxfin=1&nidtbxtpi=1&nidtagbac=&nidtbxloc=\" />\\n        <meta property=\"og:image\" content=\"https://portalimoveiscuritiba.com.br/images/screenshot-portal-2.png\" />\\n    <meta property=\"og:image:width\" content=\"291\" />\\n    <meta property=\"og:image:height\" content=\"167\" />\\n    <meta property=\"og:locale\" content=\"pt_BR\" />\\n    <meta property=\"fb:app_id\" content=\"844160346018609\" />\\n    <title>Comprar Apartamento</title>\\n    <meta name=\"description\" content=\"Portal im\\xc3\\xb3veis curitiba. Imobili\\xc3\\xa1rias em Curitiba e Regi\\xc3\\xa3o. Apartamentos e casas para alugar em curitiba. Procurando im\\xc3\\xb3veis em curitiba? Veja ofertas!\">\\n    <meta name=\"keywords\" content=\"im\\xc3\\xb3veis curitiba, imobili\\xc3\\xa1rias em Curitiba, im\\xc3\\xb3veis em Curitiba, casas para alugar em Curitiba, apartamentos para alugar em Curitiba, apartamentos em Curitiba\">\\n    <link rel=\"stylesheet\" href=\"https://maxcdn.bootstrapcdn.com/bootstrap/3.3.7/css/bootstrap.min.css\" integrity=\"sha384-BVYiiSIFeK1dGmJRAkycuHAHRg32OmUcww7on3RYdg4Va+PmSTsz/K68vbdEjh4u\" crossorigin=\"anonymous\">\\n    <link href=\"https://portalimoveiscuritiba.com.br/styles/style.css\" media=\"screen\" rel=\"stylesheet\" type=\"text/css\">\\n    <link href=\"https://portalimoveiscuritiba.com.br/images/favicon.ico\" rel=\"shortcut icon\">\\n</head>\\n    <body>\\n        <div class=\"tl-wrapper\">\\n            <div id=\"content\">\\n                <header class=\"tl-header\" id=\"tl-header_v1\">\\n    <div class=\"tl-navigation-row\">\\n        <div class=\"container\">\\n            <div class=\"row\">\\n                <div class=\"col-md-4 col-sm-4\" style=\"float: left;\">\\n                    <strong class=\"tl-logo\">\\n                        <a href=\"https://portalimoveiscuritiba.com.br/\" title=\"Portal Im\\xc3\\xb3veis Curitiba - para quem quer comprar e alugar im\\xc3\\xb3veis em Curitiba . portalimoveiscuritiba.com.br\">\\n                            <img style=\"max-width: 191px;height: auto;\" src=\"https://portalimoveiscuritiba.com.br/images/logo-portal-imoveis-curitiba.png\" alt=\"\">\\n                        </a>\\n                    </strong>\\n                </div>\\n                <div class=\"col-md-7 col-sm-7\" id=\"btnstopo\" style=\"margin-top: 18px\">\\n                    <a href=\"nao-achei\" style=\"min-width:156px; padding: 13px 12px; float: right; margin-left: 37px\" class=\"tl-btn-style1\">Solicite Um Im\\xc3\\xb3vel</a>\\n                    <a href=\"contato\" style=\"min-width:156px; padding: 13px 12px; float: right;\" class=\"tl-btn-style1\">Anuncie Seu Im\\xc3\\xb3vel</a>\\n                </div>\\n                <div class=\"col-1 col-md-1 col-sm-1 col-xl-1 text-center\" style=\"float: right; margin-top: 18px\">\\n                    <a href=\"#\" style=\"min-width: 27px; padding: 13px 15px\" id=\"sidebarCollapse\" class=\"tl-btn-style1\">\\n                        <svg class=\"icon-bars\">\\n                            <use xlink:href=\"https://portalimoveiscuritiba.com.br/images/icons.svg#icon-bars\"></use>\\n                        </svg>\\n                    </a>\\n                </div>\\n            </div>\\n        </div>\\n    </div>\\n</header>\\n            <section class=\"tl-inner-banner\">\\n                <div class=\"container\">\\n                    <div class=\"left-holder\">\\n                        <h3>Comprar Apartamento</h3>\\n                                            </div>\\n                    <ul class=\"tl-breadcrumb-listed\">\\n                        <li><a href=\"https://portalimoveiscuritiba.com.br/\">Home</a></li>\\n                        <li class=\"active\">> Pesquisa de Im\\xc3\\xb3veis</li>\\n                    </ul>\\n                </div>\\n            </section>\\n            <div class=\"tl-main-content\">\\n                <section class=\"tl-profile-section\">\\n                    <div class=\"container\">\\n                        <div class=\"row\">\\n                            <div class=\"col-md-12 col-sm-12 col-xs-12\"><div class=\"tl-main-content\">\\n    <section class=\"tl-properties-section\">\\n        <div class=\"container\">\\n            <div class=\"row res-pesq\">\\n                <div class=\"col-md-4 col-sm-4 col-xs-12\">\\n                    <aside class=\"tl-sidebar-outer\">\\n                        <div class=\"widget widget-advanced-search\" id=\"nova-busca\">\\n                            <h3>NOVA BUSCA</h3>\\n                            <a href=\"https://portalimoveiscuritiba.com.br/\" style=\"width: 100%\" class=\"tl-btn-style1\">Nova Busca</a>\\n                        </div>\\n                        <div class=\"widget widget-categories\">\\n                            <h3>BANNERS PUBLICIT\\xc3\\x81RIOS</h3>\\n                            <div class=\"tl-categories-banner\">\\n                                <a href=\"imoveis-venda-j8-imoveis-154\">\\n                                    <img src=\"images/banner_j8.jpeg\" alt=\"J8 Im\\xc3\\xb3veis\">\\n                                </a>\\n                            </div>\\n\\t\\t\\t    <div class=\"tl-categories-banner\">\\n                                <a target=\"_blank\" href=\"https://malucellicorretor.com\">\\n                                    <img src=\"images/banner_malucelli.jpeg\" alt=\"Malucelli Corretor\">\\n                                </a>\\n                            </div>\\n                            <div class=\"tl-categories-banner\">\\n                                <a target=\"_blank\" href=\"https://redeimoveisaraucaria.com.br\">\\n                                    <img src=\"images/banner_ria.jpeg\" alt=\"Rede Im\\xc3\\xb3veis Arauc\\xc3\\xa1ria\">\\n                                </a>\\n                            </div>\\n                            <div class=\"tl-categories-banner\">\\n                                <a target=\"_blank\" href=\"http://www.portalimoveislitoralparana.com.br/\">\\n                                    <img src=\"images/banner_pilp.jpeg\" alt=\"Portal Im\\xc3\\xb3veis Litoral do Paran\\xc3\\xa1\">\\n                                </a>\\n                            </div>\\n                        </div>\\n\\n                        <div class=\"widget widget-categories\">\\n                            <h3>SUPER DESTAQUE</h3>\\n                            <div class=\"tl-categories-banner\">\\n                                <a target=\"_blank\" href=\"https://webmarketingimobiliario.com.br\">\\n                                    <img src=\"images/banner_superdestaque.jpeg\" alt=\"Web Marketing Imobiliario\">\\n                                </a>\\n                            </div>\\n                        </div>\\n\\n                        \\n                            <div class=\"widget widget-recent\" id=\"sugestao-imoveis\">\\n                                <h3>SUGEST\\xc3\\x83O DE IM\\xc3\\x93VEIS</h3>\\n\\n                                <ul class=\"tl-recent-listed\">\\n\\n                                    \\n                                        <li class=\"pesq-sug-imoveis\">\\n                                            <div class=\"tl-properties-item\">\\n                                                <figure class=\"tl-properties-thumb\">\\n                                                    <a href=\"comprar-apartamento-sao-jose-dos-pinhais-boneca-do-iguacu-125354.html\">\\n                                                        <img src=\"https://www.webdivulgador.com.br/public/entidade/447/imovel/125354/foto/thumb/6890520.jpg\">\\n                                                        <figcaption class=\"tl-caption\">\\n                                                            <div class=\"bottom-text\">\\n                                                                <h5>R$ 175.000,00</h5>\\n                                                            </div>\\n                                                        </figcaption>\\n                                                    </a>\\n                                                </figure>\\n                                                <div class=\"tl-text-holder\">\\n                                                    <h4><a href=\"comprar-apartamento-sao-jose-dos-pinhais-boneca-do-iguacu-125354.html\">Apartamento</a></h4>\\n                                                    <ul class=\"tl-meta-listed\">\\n                                                        <li>BONECA DO IGUACU</li>\\n                                                        <li>S\\xc3\\x83O JOS\\xc3\\x89 DOS PINHAIS</li>\\n                                                    </ul>\\n                                                </div>\\n                                            </div>\\n                                        </li>\\n\\n                                    \\n                                        <li class=\"pesq-sug-imoveis\">\\n                                            <div class=\"tl-properties-item\">\\n                                                <figure class=\"tl-properties-thumb\">\\n                                                    <a href=\"comprar-apartamento-curitiba-cabral-161613.html\">\\n                                                        <img src=\"https://www.webdivulgador.com.br/public/entidade/709/imovel/161613/foto/thumb/5016423.jpg\">\\n                                                        <figcaption class=\"tl-caption\">\\n                                                            <div class=\"bottom-text\">\\n                                                                <h5>R$ 1.526.112,00</h5>\\n                                                            </div>\\n                                                        </figcaption>\\n                                                    </a>\\n                                                </figure>\\n                                                <div class=\"tl-text-holder\">\\n                                                    <h4><a href=\"comprar-apartamento-curitiba-cabral-161613.html\">Apartamento</a></h4>\\n                                                    <ul class=\"tl-meta-listed\">\\n                                                        <li>CABRAL</li>\\n                                                        <li>CURITIBA</li>\\n                                                    </ul>\\n                                                </div>\\n                                            </div>\\n                                        </li>\\n\\n                                    \\n                                        <li class=\"pesq-sug-imoveis\">\\n                                            <div class=\"tl-properties-item\">\\n                                                <figure class=\"tl-properties-thumb\">\\n                                                    <a href=\"comprar-apartamento-curitiba-batel-162821.html\">\\n                                                        <img src=\"https://www.webdivulgador.com.br/public/entidade/709/imovel/162821/foto/thumb/5988766.png\">\\n                                                        <figcaption class=\"tl-caption\">\\n                                                            <div class=\"bottom-text\">\\n                                                                <h5>R$ 1.037.442,00</h5>\\n                                                            </div>\\n                                                        </figcaption>\\n                                                    </a>\\n                                                </figure>\\n                                                <div class=\"tl-text-holder\">\\n                                                    <h4><a href=\"comprar-apartamento-curitiba-batel-162821.html\">Apartamento</a></h4>\\n                                                    <ul class=\"tl-meta-listed\">\\n                                                        <li>BATEL</li>\\n                                                        <li>CURITIBA</li>\\n                                                    </ul>\\n                                                </div>\\n                                            </div>\\n                                        </li>\\n\\n                                    \\n                                        <li class=\"pesq-sug-imoveis\">\\n                                            <div class=\"tl-properties-item\">\\n                                                <figure class=\"tl-properties-thumb\">\\n                                                    <a href=\"comprar-apartamento-curitiba-batel-162873.html\">\\n                                                        <img src=\"https://www.webdivulgador.com.br/public/entidade/709/imovel/162873/foto/thumb/5039223.jpg\">\\n                                                        <figcaption class=\"tl-caption\">\\n                                                            <div class=\"bottom-text\">\\n                                                                <h5>R$ 1.150.000,00</h5>\\n                                                            </div>\\n                                                        </figcaption>\\n                                                    </a>\\n                                                </figure>\\n                                                <div class=\"tl-text-holder\">\\n                                                    <h4><a href=\"comprar-apartamento-curitiba-batel-162873.html\">Apartamento</a></h4>\\n                                                    <ul class=\"tl-meta-listed\">\\n                                                        <li>BATEL</li>\\n                                                        <li>CURITIBA</li>\\n                                                    </ul>\\n                                                </div>\\n                                            </div>\\n                                        </li>\\n\\n                                                                    </ul>\\n                            </div>\\n\\n                                            </aside>\\n                </div>\\n                <!-- end menu lateral esquerda -->\\n\\n                <div class=\"col-md-8 col-sm-8 col-xs-12\">\\n                    <div class=\"tl-filterable-holder tl-filterable-holder_v2\">\\n\\n\\n                        <div class=\"tl-filterlist\">\\n                            <div class=\"tl-morefilter\">\\n                            </div>\\n\\n                            \\n                            <span class=\"found-pages\">\\n                                <span class=\"found-pages\">2823 im\\xc3\\xb3veis encontrados</span>\\n                            </span>\\n                        </div>\\n                        <div class=\"tl-filterOuter\">\\n\\n                            \\n                                    <div class=\"tl-properties-item tl-properties-list-item\">\\n                                        <div class=\"row\">\\n                                            <div class=\"col-md-5 col-sm-5 col-xs-12\">\\n                                                <figure class=\"tl-properties-thumb\">\\n                                                    <a href=\"comprar-apartamento-araucaria-iguacu-30759.html\">\\n                                                        <img src=\"https://www.webcreci.com.br/imobiliarias/imobil7/venda_big/1304_1.jpg\" alt=\"\">\\n                                                    </a>\\n\\n                                                </figure>\\n                                            </div>\\n                                            <div class=\"col-md-7 col-sm-7 col-xs-12\">\\n                                                <!--Text Holder Start-->\\n                                                <div class=\"tl-text-holder\">\\n                                                    <h3 class=\"price\">R$ 189.000,00</h3>\\n                                                    <h4>\\n                                                        <a href=\"comprar-apartamento-araucaria-iguacu-30759.html\">**pode ser financiado e aceita fgts**\\n\\na partir de r$ 189.000,00\\n\\nrua deputado jo\\xc3\\xa3o leopoldo jacomel, 189 - apto 08...</a>\\n                                                    </h4>\\n                                                    <span class=\"address\">ARAUC\\xc3\\x81RIA - IGUA\\xc3\\x87U</span>\\n                                                    <ul class=\"tl-meta-listed\">\\n                                                        <li>\\n                                                            <svg class=\"icon-bed\">\\n                                                                <title>Quartos</title>\\n                                                                <use xlink:href=\"images/icons.svg#icon-bed\"></use>\\n                                                            </svg>2                                                        </li>\\n                                                        <li>\\n                                                            <svg class=\"icon-car\">\\n                                                                <title>Garagens</title>\\n                                                                <use xlink:href=\"images/icons.svg#icon-car\"></use>\\n                                                            </svg>1                                                        </li>\\n                                                    </ul>\\n                                                </div>\\n                                            </div>\\n                                        </div>\\n                                    </div>\\n\\n                                \\n                                    <div class=\"tl-properties-item tl-properties-list-item\">\\n                                        <div class=\"row\">\\n                                            <div class=\"col-md-5 col-sm-5 col-xs-12\">\\n                                                <figure class=\"tl-properties-thumb\">\\n                                                    <a href=\"comprar-apartamento-araucaria-centro-97552.html\">\\n                                                        <img src=\"https://www.webcreci.com.br/imobiliarias/imobil7/venda_big/1338_1.jpg\" alt=\"\">\\n                                                    </a>\\n\\n                                                </figure>\\n                                            </div>\\n                                            <div class=\"col-md-7 col-sm-7 col-xs-12\">\\n                                                <!--Text Holder Start-->\\n                                                <div class=\"tl-text-holder\">\\n                                                    <h3 class=\"price\">R$ 310.000,00</h3>\\n                                                    <h4>\\n                                                        <a href=\"comprar-apartamento-araucaria-centro-97552.html\">Excelente localiza\\xc3\\xa7\\xc3\\xa3o - apartamento com 91,00m\\xc2\\xb2 de \\xc3\\xa1rea total constru\\xc3\\xadda, com 02 quartos, banheiro, sala 02 ambientes, cozinha e \\xc3\\xa1rea...</a>\\n                                                    </h4>\\n                                                    <span class=\"address\">ARAUC\\xc3\\x81RIA - CENTRO</span>\\n                                                    <ul class=\"tl-meta-listed\">\\n                                                        <li>\\n                                                            <svg class=\"icon-bed\">\\n                                                                <title>Quartos</title>\\n                                                                <use xlink:href=\"images/icons.svg#icon-bed\"></use>\\n                                                            </svg>2                                                        </li>\\n                                                        <li>\\n                                                            <svg class=\"icon-car\">\\n                                                                <title>Garagens</title>\\n                                                                <use xlink:href=\"images/icons.svg#icon-car\"></use>\\n                                                            </svg>1                                                        </li>\\n                                                    </ul>\\n                                                </div>\\n                                            </div>\\n                                        </div>\\n                                    </div>\\n\\n                                \\n                                    <div class=\"tl-properties-item tl-properties-list-item\">\\n                                        <div class=\"row\">\\n                                            <div class=\"col-md-5 col-sm-5 col-xs-12\">\\n                                                <figure class=\"tl-properties-thumb\">\\n                                                    <a href=\"comprar-apartamento-curitiba-santa-candida-100918.html\">\\n                                                        <img src=\"https://s3-sa-east-1.amazonaws.com/grupo-union/17877/73677145.jpg\" alt=\"\">\\n                                                    </a>\\n\\n                                                </figure>\\n                                            </div>\\n                                            <div class=\"col-md-7 col-sm-7 col-xs-12\">\\n                                                <!--Text Holder Start-->\\n                                                <div class=\"tl-text-holder\">\\n                                                    <h3 class=\"price\">R$ 194.000,00</h3>\\n                                                    <h4>\\n                                                        <a href=\"comprar-apartamento-curitiba-santa-candida-100918.html\">Apartamento 49,73m\\xc2\\xb2 , 02 dormit\\xc3\\xb3rios, sala, cozinha com revestimento cer\\xc3\\xa2mico do piso ao teto, banheiro, sistema de interfone, portaria 24h,...</a>\\n                                                    </h4>\\n                                                    <span class=\"address\">CURITIBA - SANTA C\\xc3\\x82NDIDA</span>\\n                                                    <ul class=\"tl-meta-listed\">\\n                                                        <li>\\n                                                            <svg class=\"icon-bed\">\\n                                                                <title>Quartos</title>\\n                                                                <use xlink:href=\"images/icons.svg#icon-bed\"></use>\\n                                                            </svg>2                                                        </li>\\n                                                        <li>\\n                                                            <svg class=\"icon-car\">\\n                                                                <title>Garagens</title>\\n                                                                <use xlink:href=\"images/icons.svg#icon-car\"></use>\\n                                                            </svg>1                                                        </li>\\n                                                    </ul>\\n                                                </div>\\n                                            </div>\\n                                        </div>\\n                                    </div>\\n\\n                                \\n                                    <div class=\"tl-properties-item tl-properties-list-item\">\\n                                        <div class=\"row\">\\n                                            <div class=\"col-md-5 col-sm-5 col-xs-12\">\\n                                                <figure class=\"tl-properties-thumb\">\\n                                                    <a href=\"comprar-apartamento-curitiba-ecoville-114182.html\">\\n                                                        <img src=\"https://www.j8.com.br/vista.imobi/fotos/59004/ij8imovei59004_527928.jpg\" alt=\"\">\\n                                                    </a>\\n\\n                                                </figure>\\n                                            </div>\\n                                            <div class=\"col-md-7 col-sm-7 col-xs-12\">\\n                                                <!--Text Holder Start-->\\n                                                <div class=\"tl-text-holder\">\\n                                                    <h3 class=\"price\">R$ 3.850.000,00</h3>\\n                                                    <h4>\\n                                                        <a href=\"comprar-apartamento-curitiba-ecoville-114182.html\">Venha morar em um dos mais desejados apartamentos na regi\\xc3\\xa3o do ecoville.  com 560 m de \\xc3\\xa1rea total e 368...</a>\\n                                                    </h4>\\n                                                    <span class=\"address\">CURITIBA - ECOVILLE</span>\\n                                                    <ul class=\"tl-meta-listed\">\\n                                                        <li>\\n                                                            <svg class=\"icon-bed\">\\n                                                                <title>Quartos</title>\\n                                                                <use xlink:href=\"images/icons.svg#icon-bed\"></use>\\n                                                            </svg>4                                                        </li>\\n                                                        <li>\\n                                                            <svg class=\"icon-car\">\\n                                                                <title>Garagens</title>\\n                                                                <use xlink:href=\"images/icons.svg#icon-car\"></use>\\n                                                            </svg>4                                                        </li>\\n                                                    </ul>\\n                                                </div>\\n                                            </div>\\n                                        </div>\\n                                    </div>\\n\\n                                \\n                                    <div class=\"tl-properties-item tl-properties-list-item\">\\n                                        <div class=\"row\">\\n                                            <div class=\"col-md-5 col-sm-5 col-xs-12\">\\n                                                <figure class=\"tl-properties-thumb\">\\n                                                    <a href=\"comprar-apartamento-curitiba-ecoville-121611.html\">\\n                                                        <img src=\"https://www.j8.com.br/vista.imobi/fotos/59163/i42Ja8zA8k2888yX3Gdg_591635e3d747adb12e.jpg\" alt=\"\">\\n                                                    </a>\\n\\n                                                </figure>\\n                                            </div>\\n                                            <div class=\"col-md-7 col-sm-7 col-xs-12\">\\n                                                <!--Text Holder Start-->\\n                                                <div class=\"tl-text-holder\">\\n                                                    <h3 class=\"price\">R$ 2.712.000,00</h3>\\n                                                    <h4>\\n                                                        <a href=\"comprar-apartamento-curitiba-ecoville-121611.html\">Um apartamento \\xc3\\xbanico como voc\\xc3\\xaa. blue garnet no ecoville, novo e pronto para morar.  uma unidade por andar com 4...</a>\\n                                                    </h4>\\n                                                    <span class=\"address\">CURITIBA - ECOVILLE</span>\\n                                                    <ul class=\"tl-meta-listed\">\\n                                                        <li>\\n                                                            <svg class=\"icon-bed\">\\n                                                                <title>Quartos</title>\\n                                                                <use xlink:href=\"images/icons.svg#icon-bed\"></use>\\n                                                            </svg>3                                                        </li>\\n                                                        <li>\\n                                                            <svg class=\"icon-car\">\\n                                                                <title>Garagens</title>\\n                                                                <use xlink:href=\"images/icons.svg#icon-car\"></use>\\n                                                            </svg>4                                                        </li>\\n                                                    </ul>\\n                                                </div>\\n                                            </div>\\n                                        </div>\\n                                    </div>\\n\\n                                \\n                                    <div class=\"tl-properties-item tl-properties-list-item\">\\n                                        <div class=\"row\">\\n                                            <div class=\"col-md-5 col-sm-5 col-xs-12\">\\n                                                <figure class=\"tl-properties-thumb\">\\n                                                    <a href=\"comprar-apartamento-curitiba-ecoville-121612.html\">\\n                                                        <img src=\"https://www.j8.com.br/vista.imobi/fotos/59165/in65S74N1877u_591655e3d72c1b1185.jpg\" alt=\"\">\\n                                                    </a>\\n\\n                                                </figure>\\n                                            </div>\\n                                            <div class=\"col-md-7 col-sm-7 col-xs-12\">\\n                                                <!--Text Holder Start-->\\n                                                <div class=\"tl-text-holder\">\\n                                                    <h3 class=\"price\">R$ 2.980.000,00</h3>\\n                                                    <h4>\\n                                                        <a href=\"comprar-apartamento-curitiba-ecoville-121612.html\">Um apartamento \\xc3\\xbanico como voc\\xc3\\xaa. blue garnet no ecoville, novo e pronto para morar.  uma unidade por andar com 4...</a>\\n                                                    </h4>\\n                                                    <span class=\"address\">CURITIBA - ECOVILLE</span>\\n                                                    <ul class=\"tl-meta-listed\">\\n                                                        <li>\\n                                                            <svg class=\"icon-bed\">\\n                                                                <title>Quartos</title>\\n                                                                <use xlink:href=\"images/icons.svg#icon-bed\"></use>\\n                                                            </svg>3                                                        </li>\\n                                                        <li>\\n                                                            <svg class=\"icon-car\">\\n                                                                <title>Garagens</title>\\n                                                                <use xlink:href=\"images/icons.svg#icon-car\"></use>\\n                                                            </svg>4                                                        </li>\\n                                                    </ul>\\n                                                </div>\\n                                            </div>\\n                                        </div>\\n                                    </div>\\n\\n                                \\n                                    <div class=\"tl-properties-item tl-properties-list-item\">\\n                                        <div class=\"row\">\\n                                            <div class=\"col-md-5 col-sm-5 col-xs-12\">\\n                                                <figure class=\"tl-properties-thumb\">\\n                                                    <a href=\"comprar-apartamento-curitiba-champagnat-124874.html\">\\n                                                        <img src=\"https://www.j8.com.br/vista.imobi/fotos/59227/ij8imovei59227_229162.jpg\" alt=\"\">\\n                                                    </a>\\n\\n                                                </figure>\\n                                            </div>\\n                                            <div class=\"col-md-7 col-sm-7 col-xs-12\">\\n                                                <!--Text Holder Start-->\\n                                                <div class=\"tl-text-holder\">\\n                                                    <h3 class=\"price\">R$ 1.640.000,00</h3>\\n                                                    <h4>\\n                                                        <a href=\"comprar-apartamento-curitiba-champagnat-124874.html\">Alto padr\\xc3\\xa3o e pronto para morar! apartamentos com vistas definidas e v\\xc3\\xa1rias op\\xc3\\xa7\\xc3\\xb5es de andares que agradam a todos no...</a>\\n                                                    </h4>\\n                                                    <span class=\"address\">CURITIBA - CHAMPAGNAT</span>\\n                                                    <ul class=\"tl-meta-listed\">\\n                                                        <li>\\n                                                            <svg class=\"icon-bed\">\\n                                                                <title>Quartos</title>\\n                                                                <use xlink:href=\"images/icons.svg#icon-bed\"></use>\\n                                                            </svg>3                                                        </li>\\n                                                        <li>\\n                                                            <svg class=\"icon-car\">\\n                                                                <title>Garagens</title>\\n                                                                <use xlink:href=\"images/icons.svg#icon-car\"></use>\\n                                                            </svg>3                                                        </li>\\n                                                    </ul>\\n                                                </div>\\n                                            </div>\\n                                        </div>\\n                                    </div>\\n\\n                                \\n                                    <div class=\"tl-properties-item tl-properties-list-item\">\\n                                        <div class=\"row\">\\n                                            <div class=\"col-md-5 col-sm-5 col-xs-12\">\\n                                                <figure class=\"tl-properties-thumb\">\\n                                                    <a href=\"comprar-apartamento-curitiba-ecoville-125107.html\">\\n                                                        <img src=\"https://www.j8.com.br/vista.imobi/fotos/59006/ij8imovei59006_191198.jpg\" alt=\"\">\\n                                                    </a>\\n\\n                                                </figure>\\n                                            </div>\\n                                            <div class=\"col-md-7 col-sm-7 col-xs-12\">\\n                                                <!--Text Holder Start-->\\n                                                <div class=\"tl-text-holder\">\\n                                                    <h3 class=\"price\">R$ 3.933.000,00</h3>\\n                                                    <h4>\\n                                                        <a href=\"comprar-apartamento-curitiba-ecoville-125107.html\">Arquitetura contempor\\xc3\\xa2nea, linhas limpas e neutras no melhor do ecoville. luxo e sofistica\\xc3\\xa7\\xc3\\xa3o em uma planta caprichada com 4 su\\xc3\\xadtes...</a>\\n                                                    </h4>\\n                                                    <span class=\"address\">CURITIBA - ECOVILLE</span>\\n                                                    <ul class=\"tl-meta-listed\">\\n                                                        <li>\\n                                                            <svg class=\"icon-bed\">\\n                                                                <title>Quartos</title>\\n                                                                <use xlink:href=\"images/icons.svg#icon-bed\"></use>\\n                                                            </svg>4                                                        </li>\\n                                                        <li>\\n                                                            <svg class=\"icon-car\">\\n                                                                <title>Garagens</title>\\n                                                                <use xlink:href=\"images/icons.svg#icon-car\"></use>\\n                                                            </svg>4                                                        </li>\\n                                                    </ul>\\n                                                </div>\\n                                            </div>\\n                                        </div>\\n                                    </div>\\n\\n                                \\n                                    <div class=\"tl-properties-item tl-properties-list-item\">\\n                                        <div class=\"row\">\\n                                            <div class=\"col-md-5 col-sm-5 col-xs-12\">\\n                                                <figure class=\"tl-properties-thumb\">\\n                                                    <a href=\"comprar-apartamento-sao-jose-dos-pinhais-boneca-do-iguacu-125354.html\">\\n                                                        <img src=\"https://www.webdivulgador.com.br/public/entidade/447/imovel/125354/foto/full/6890520.jpg\" alt=\"\">\\n                                                    </a>\\n\\n                                                </figure>\\n                                            </div>\\n                                            <div class=\"col-md-7 col-sm-7 col-xs-12\">\\n                                                <!--Text Holder Start-->\\n                                                <div class=\"tl-text-holder\">\\n                                                    <h3 class=\"price\">R$ 175.000,00</h3>\\n                                                    <h4>\\n                                                        <a href=\"comprar-apartamento-sao-jose-dos-pinhais-boneca-do-iguacu-125354.html\">1201 residencial 722\\nlocaliza\\xc3\\xa7\\xc3\\xa3o: boneca do igua\\xc3\\xa7u, pr\\xc3\\xb3ximo a rua herry feeken\\n10 unidades em torre \\xc3\\xbanica\\nop\\xc3\\xa7\\xc3\\xb5es:\\n\\n2 dormit\\xc3\\xb3rios...</a>\\n                                                    </h4>\\n                                                    <span class=\"address\">S\\xc3\\x83O JOS\\xc3\\x89 DOS PINHAIS - BONECA DO IGUACU</span>\\n                                                    <ul class=\"tl-meta-listed\">\\n                                                        <li>\\n                                                            <svg class=\"icon-bed\">\\n                                                                <title>Quartos</title>\\n                                                                <use xlink:href=\"images/icons.svg#icon-bed\"></use>\\n                                                            </svg>2                                                        </li>\\n                                                        <li>\\n                                                            <svg class=\"icon-car\">\\n                                                                <title>Garagens</title>\\n                                                                <use xlink:href=\"images/icons.svg#icon-car\"></use>\\n                                                            </svg>1                                                        </li>\\n                                                    </ul>\\n                                                </div>\\n                                            </div>\\n                                        </div>\\n                                    </div>\\n\\n                                \\n                                    <div class=\"tl-properties-item tl-properties-list-item\">\\n                                        <div class=\"row\">\\n                                            <div class=\"col-md-5 col-sm-5 col-xs-12\">\\n                                                <figure class=\"tl-properties-thumb\">\\n                                                    <a href=\"comprar-apartamento-curitiba-batel-126406.html\">\\n                                                        <img src=\"https://www.j8.com.br/vista.imobi/fotos/59256/ij8imovei59256_635174.jpg\" alt=\"\">\\n                                                    </a>\\n\\n                                                </figure>\\n                                            </div>\\n                                            <div class=\"col-md-7 col-sm-7 col-xs-12\">\\n                                                <!--Text Holder Start-->\\n                                                <div class=\"tl-text-holder\">\\n                                                    <h3 class=\"price\">R$ 3.900.000,00</h3>\\n                                                    <h4>\\n                                                        <a href=\"comprar-apartamento-curitiba-batel-126406.html\">Apartamentos de alt\\xc3\\xadssimo padr\\xc3\\xa3o desde os acabamentos internos at\\xc3\\xa9 as \\xc3\\xa1reas comuns. localiza\\xc3\\xa7\\xc3\\xa3o impec\\xc3\\xa1vel e pr\\xc3\\xb3ximo de tudo.  - \\xc3\\xa1rea...</a>\\n                                                    </h4>\\n                                                    <span class=\"address\">CURITIBA - BATEL</span>\\n                                                    <ul class=\"tl-meta-listed\">\\n                                                        <li>\\n                                                            <svg class=\"icon-bed\">\\n                                                                <title>Quartos</title>\\n                                                                <use xlink:href=\"images/icons.svg#icon-bed\"></use>\\n                                                            </svg>4                                                        </li>\\n                                                        <li>\\n                                                            <svg class=\"icon-car\">\\n                                                                <title>Garagens</title>\\n                                                                <use xlink:href=\"images/icons.svg#icon-car\"></use>\\n                                                            </svg>4                                                        </li>\\n                                                    </ul>\\n                                                </div>\\n                                            </div>\\n                                        </div>\\n                                    </div>\\n\\n                                \\n                        </div>\\n                        <!--Pagination Start-->\\n\\n                        <div class=\"pagerfanta\">\\n                            <nav><span class=\"current\">1</span><a href=\"/imoveis?nidtbxfin=1&nidtbxtpi=1&nidtagbac=&nidtbxloc=&page=2\">2</a><a href=\"/imoveis?nidtbxfin=1&nidtbxtpi=1&nidtagbac=&nidtbxloc=&page=3\">3</a><span class=\"dots\">...</span><a href=\"/imoveis?nidtbxfin=1&nidtbxtpi=1&nidtagbac=&nidtbxloc=&page=283\">283</a></nav>\\n                        </div>\\n\\n                    \\n                    </div>\\n                </div>\\n            </div>\\n        </div>\\n    </section>\\n</div>\\n                                </div>\\n                            </div>\\n                        </div>\\n                    </section>\\n                    <section class=\"tl-parallax-section\">\\n                        <div class=\"container\">\\n                            <div class=\"col-md-3 col-sm-4 col-xs-12\">\\n                                <div class=\"parallax-fx-img\">\\n                                </div>\\n                            </div>\\n                            <div class=\"col-md-7 col-sm-6 col-xs-12\">\\n                                <div class=\"parallax-info\">\\n                                    <h3>Para Corretores e Imobili\\xc3\\xa1rias</h3>\\n                                    <p>Receba mais contatos divulgando num portal genuinamente curitibano, solicite\\n                                    uma proposta e aproveite o excelente custo beneficio de ser nosso anunciante.</p>\\n                                </div>\\n                            </div>\\n                            <div class=\"col-md-2 col-sm-3 col-xs-12\">\\n                                <a href=\"contato\" class=\"parallax-btn\">Solicite sua Proposta</a>\\n                            </div>\\n                        </div>\\n                    </section>\\n                </div>\\n                <footer class=\"tl-footer\">\\n    <section class=\"tl-call-to-action-section\">\\n        <div class=\"container\">\\n            <div class=\"row\">\\n                <div class=\"col-md-9 col-sm-9 col-xs-12\">\\n                    <h3>\\n                        <svg class=\"icon-thumbs-o-up\" style=\"width: 40px; height: 40px; margin-right: 10px; vertical-align: middle;\">\\n                            <use xlink:href=\"images/icons.svg#icon-thumbs-o-up\"></use>\\n                        </svg><b>J\\xc3\\xa1 Curtiu nossa Fanpage?</b> Aproveite para nos visitar no Facebook.\\n                    </h3>\\n                </div>\\n                <div class=\"col-md-3 col-sm-3 col-xs-12\">\\n                    <a href=\"https://facebook.com/portalimoveiscuritiba\" target=\"_blanck\" class=\"tl-btn-style1\">Acesse Agora</a>\\n                </div>\\n            </div>\\n        </div>\\n    </section>\\n    <section class=\"tl-footer-middle-section pd-t-80\">\\n        <div class=\"container\">\\n            <div class=\"row\">\\n                <div class=\"col-md-3 col-sm-6 col-xs-12\">\\n                    <div class=\"widget widget-about\">\\n                        <h3>O PORTAL</h3>\\n                        <p>O Portal Im\\xc3\\xb3veis Curitiba \\xc3\\xa9 um portal imobili\\xc3\\xa1rio regional com foco total na grande Curitiba, onde voc\\xc3\\xaa encontrar\\xc3\\xa1 im\\xc3\\xb3veis de in\\xc3\\xbameras imobili\\xc3\\xa1rias e\\n                            corretores de toda Curiitba e regi\\xc3\\xa3o metropolitana.</p>\\n                    </div>\\n                    <!--Widget End-->\\n                </div>\\n                <div class=\"col-md-4 col-sm-6 col-xs-12\">\\n                    <div class=\"widget widget-about\">\\n                        <h3>CONTATO</h3>\\n                        <h4>SUPORTE AO ANUNCIANTE</h4>\\n                        <ul class=\"ft-listed\">\\n                            <li>\\n                                <svg class=\"icon-whatsapp\">\\n                                                                        <use xlink:href=\"https://portalimoveiscuritiba.com.br/images/icons.svg#icon-whatsapp\"></use>\\n                                </svg>\\n                                <a target=\"_blank\" href=\"https://web.whatsapp.com/send?phone=5541997918903&text=Estou no Portal Im\\xc3\\xb3veis Curitiba e preciso de suporte:\">\\n                                    +55 41 9 9791-8903 Somente Whatsapp\\n                                </a>\\n                            </li>\\n                            <li>\\n                                <svg class=\"icon-envelope\">\\n                                    <use xlink:href=\"https://portalimoveiscuritiba.com.br/images/icons.svg#icon-envelope\"></use>\\n                                </svg>\\n                                <a href=\"mailto:suporte@webmarketingimobiliario.com.br\">\\n                                    suporte@webmarketingimobiliario.com.br\\n                                </a>\\n                            </li>\\n                        </ul>\\n                    </div>\\n                </div>\\n                <div class=\"col-md-5 col-sm-6 col-xs-12\">\\n                    <div class=\"widget widget-realstate\">\\n                        <h3>SUGEST\\xc3\\x95ES DE IM\\xc3\\x93VEIS EM CURITIBA</h3>\\n                        <p style=\"line-height: 26px;\">\\n                            <a style=\"font-size: 14px; color: #fff\" href=\"imoveis?nidtbxfin=1&nidtbxtpi=1&nidtagbac=13\">Apartamento \\xc3\\x81gua verde</a>\\n                            <a style=\"font-size: 14px; color: #b8c9d6\" href=\"imoveis?nidtbxfin=1&nidtbxtpi=1&nidtagbac=12\">Apartamento Centro</a>\\n                            <a style=\"font-size: 14px; color: #fff\" href=\"imoveis?nidtbxfin=1&nidtbxtpi=1&nidtagbac=60\">Apartamento Port\\xc3\\xa3o</a>\\n                            <a style=\"font-size: 14px; color: #b8c9d6\" href=\"imoveis?nidtbxfin=1&nidtbxtpi=1&nidtagbac=825\">Apartamento Ecoville</a>\\n                            <a style=\"font-size: 14px; color: #fff\" href=\"imoveis?nidtbxfin=1&nidtbxtpi=1&nidtagbac=23\">Apartamento Batel</a>\\n                            <a style=\"font-size: 14px; color: #b8c9d6\" href=\"imoveis?nidtbxfin=1&nidtbxtpi=1&nidtagbac=85\">Apartamento Bigorrilho</a>\\n                            <a style=\"font-size: 14px; color: #fff\" href=\"imoveis?nidtbxfin=1&nidtbxtpi=7&nidtagbac=48\">Sobrado Jardim das Am\\xc3\\xa9ricas</a>\\n                            <a style=\"font-size: 14px; color: #b8c9d6\" href=\"imoveis?nidtbxfin=1&nidtbxtpi=8&nidtagbac=&nidtbxloc=\">Sobrado em condom\\xc3\\xadnio</a>\\n                            <a style=\"font-size: 14px; color: #fff\" href=\"imoveis?nidtbxfin=1&nidtbxtpi=3&nidtagbac=12\">Studio Centro</a>\\n                            <a style=\"font-size: 14px; color: #b8c9d6\" href=\"imoveis?nidtbxfin=1&nidtbxtpi=6&nidtagbac=&nidtbxloc=\">Casa em condom\\xc3\\xadnio</a>\\n                            <a style=\"font-size: 14px; color: #fff\" href=\"imoveis?nidtbxfin=1&nidtbxtpi=5&nidtagbac=65\">Casa Santa Felicidade</a>\\n                            <a style=\"font-size: 14px; color: #b8c9d6\" href=\"imoveis?nidtbxfin=1&nidtbxtpi=15&nidtagbac=&nidtbxloc=\">Loja e Sala Comercial</a>\\n                            <a style=\"font-size: 14px; color: #fff\" href=\"imoveis?nidtbxfin=1&nidtbxtpi=14&nidtagbac=&nidtbxloc=\">Barrac\\xc3\\xa3o Grande Curitiba</a>\\n                            <a style=\"font-size: 14px; color: #b8c9d6\" href=\"imoveis?nidtbxfin=1&nidtbxtpi=9&nidtagbac=79\">Terreno Uberaba</a>\\n                            <a style=\"font-size: 14px; color: #fff\" href=\"imoveis?nidtbxfin=1&nidtbxtpi=&nidtagbac=&nidtbxloc=2781\">Im\\xc3\\xb3veis em Arauc\\xc3\\xa1ria</a>\\n                        </p>\\n                    </div>\\n                </div>\\n            </div>\\n        </div>\\n    </section>\\n    <div class=\"tl-copyright-row\">\\n        <div class=\"container\">\\n            <div class=\"row\">\\n                <div class=\"col-md-6 col-sm-6 col-xs-12\">\\n                    <a style=\"float:left\" href=\"https://portalimoveiscuritiba.com.br/\">\\n                        <img alt=\"portal im\\xc3\\xb3veis curitiba rodape\" title=\"Portal Im\\xc3\\xb3veis Curitiba\" src=\"https://portalimoveiscuritiba.com.br/images/logo-pq-portal-imoveis-curitiba.png\" id=\"logo1\">\\n                    </a>\\n                    <p>Copyright \\xc2\\xa9 2017 Portal Im\\xc3\\xb3veis Curitiba - Todos os direitos reservados.</p>\\n                </div>\\n                <div class=\"col-md-6 col-sm-6 col-xs-12\">\\n                    <ul class=\"top-social-links\">\\n    <li>\\n        <a href=\"https://facebook.com/portalimoveiscuritiba\" target=\"_blank\">\\n            <svg class=\"icon-facebook\">\\n                <use xlink:href=\"https://portalimoveiscuritiba.com.br/images/icons.svg#icon-facebook\"></use>\\n            </svg>\\n        </a>\\n    </li>\\n    <li>\\n        <a href=\"https://twitter.com/pimoveisctba\" target=\"_blank\">\\n            <svg class=\"icon-twitter\">\\n                <use xlink:href=\"https://portalimoveiscuritiba.com.br/images/icons.svg#icon-twitter\"></use>\\n            </svg>\\n        </a>\\n    </li>\\n    <li>\\n        <a href=\"https://portalimoveiscuritiba.com.br/blog\" target=\"_blank\">\\n            <svg class=\"icon-blogger\">\\n                <use xlink:href=\"https://portalimoveiscuritiba.com.br/images/icons.svg#icon-blogger\"></use>\\n            </svg>\\n        </a>\\n    </li>\\n</ul>\\n                </div>\\n            </div>\\n        </div>\\n    </div>\\n</footer>\\n            </div>\\n            <nav id=\"sidebar\">\\n    <a href=\"#\" id=\"closeMenu\">\\n        Fechar [X]\\n    </a>\\n    <ul class=\"list-unstyled components sidebarmenu\">\\n        <li>\\n            <a href=\"https://portalimoveiscuritiba.com.br/\">Home</a>\\n        </li>\\n        <li class=\"active\">\\n            <a href=\"https://portalimoveiscuritiba.com.br/\">Nova Busca</a>\\n        </li>\\n        <li>\\n            <a href=\"portal\">O Portal</a>\\n        </li>\\n        <li>\\n            <a href=\"imobiliarias-em-curitiba-e-regiao\">Anunciantes</a>\\n        </li>\\n        <li>\\n            <a href=\"integracao\">Integra\\xc3\\xa7\\xc3\\xa3o</a>\\n        </li>\\n        <li>\\n            <a href=\"contato\">Anuncie Seu Im\\xc3\\xb3vel</a>\\n        </li>\\n        <li>\\n            <a href=\"nao-achei\">Solicite Um Im\\xc3\\xb3vel</a>\\n        </li>\\n        <li>\\n            <a href=\"contato\">Contato</a>\\n        </li>\\n    </ul>\\n    <br>\\n    <div>\\n        \\n        <a href=\"https://www.facebook.com/sharer/sharer.php?u=https%3A%2F%2Fportalimoveiscuritiba.com.br%2Fimoveis%3Fnidtbxfin%3D1%26nidtbxtpi%3D1%26nidtagbac%3D%26nidtbxloc%3D\" target=\"_blank\">\\n            <div style=\"float:left; background-color: #1877f2; padding: 4px 8px 4px 7px; margin: 3px 7px 3px 64px; border-radius: 4px\">\\n                <div style=\"float: left;\">\\n                    <svg class=\"icon-facebook\">\\n                        <use xlink:href=\"https://portalimoveiscuritiba.com.br/images/icons.svg#icon-facebook\"></use>\\n                    </svg>\\n                </div>\\n                <div style=\"float:left; color: #fff; font-weight: bold; font-size: 13px; font-family: Helvetica, Arial, sans-serif; vertical-align: middle; padding-top:2px; padding-left: 5px;\">\\n                    Compartilhar\\n                </div>\\n            </div>\\n        </a>\\n        <br>\\n        <a href=\"https://web.whatsapp.com/send?text=https%3A%2F%2Fportalimoveiscuritiba.com.br%2Fimoveis%3Fnidtbxfin%3D1%26nidtbxtpi%3D1%26nidtagbac%3D%26nidtbxloc%3D\" target=\"_blank\">\\n            <div style=\"float:left; background-color: #aabd2f; padding: 4px 8px 4px 7px; margin: 3px 7px 3px 64px; border-radius: 4px\">\\n                <div style=\"float: left;\">\\n                    <svg class=\"icon-whatsapp\">\\n                        <use xlink:href=\"https://portalimoveiscuritiba.com.br/images/icons.svg#icon-whatsapp\"></use>\\n                    </svg>\\n                </div>\\n                <div style=\"float:left; color: #fff; font-weight: bold; font-size: 13px; font-family: Helvetica, Arial, sans-serif; vertical-align: middle; padding-top:2px; padding-left: 5px;\">\\n                    Compartilhar\\n                </div>\\n            </div>\\n        </a>\\n    </div>\\n    <br style=\"clear: both\"><br>\\n    <div style=\"width: 48%; margin:auto\">\\n        <ul class=\"top-social-links\">\\n    <li>\\n        <a href=\"https://facebook.com/portalimoveiscuritiba\" target=\"_blank\">\\n            <svg class=\"icon-facebook\">\\n                <use xlink:href=\"https://portalimoveiscuritiba.com.br/images/icons.svg#icon-facebook\"></use>\\n            </svg>\\n        </a>\\n    </li>\\n    <li>\\n        <a href=\"https://twitter.com/pimoveisctba\" target=\"_blank\">\\n            <svg class=\"icon-twitter\">\\n                <use xlink:href=\"https://portalimoveiscuritiba.com.br/images/icons.svg#icon-twitter\"></use>\\n            </svg>\\n        </a>\\n    </li>\\n    <li>\\n        <a href=\"https://portalimoveiscuritiba.com.br/blog\" target=\"_blank\">\\n            <svg class=\"icon-blogger\">\\n                <use xlink:href=\"https://portalimoveiscuritiba.com.br/images/icons.svg#icon-blogger\"></use>\\n            </svg>\\n        </a>\\n    </li>\\n</ul>\\n    </div>\\n</nav>\\n        </div>\\n<script src=\"https://ajax.googleapis.com/ajax/libs/jquery/1.12.4/jquery.min.js\"></script>\\n<script src=\"https://maxcdn.bootstrapcdn.com/bootstrap/3.3.7/js/bootstrap.min.js\" integrity=\"sha384-Tc5IQib027qvyjSMfHjOMaLkfuWVxZxUPnCJA7l2mCWNIpG9mGCD8wGNIcPD7Txa\" crossorigin=\"anonymous\"></script>\\n<script type=\"text/javascript\">\\n$(document).ready(function () {\\n\\n    $(\\'#sidebarCollapse\\').on(\\'click\\', function () {\\n        $(\\'#sidebar\\').toggleClass(\\'active\\');\\n    });\\n\\n    $(\\'#closeMenu\\').on(\\'click\\', function () {\\n        // hide sidebar\\n        $(\\'#sidebar\\').removeClass(\\'active\\');\\n    });\\n\\n});\\n</script>\\n</script><script type=\"text/javascript\">\\n    //<!--\\n\\n          var _gaq = _gaq || [];\\n          _gaq.push([\\'_setAccount\\', \\'UA-37657436-1\\']);\\n          _gaq.push([\\'_setDomainName\\', \\'portalimoveiscuritiba.com.br\\']);\\n\\n          _gaq.push([\\'_trackPageview\\']);\\n\\n          (function() {\\n            var ga = document.createElement(\\'script\\'); ga.type = \\'text/javascript\\'; ga.async = true;\\n            ga.src = (\\'https:\\' == document.location.protocol ? \\'https://ssl\\' : \\'http://www\\') + \\'.google-analytics.com/ga.js\\';\\n            var s = document.getElementsByTagName(\\'script\\')[0]; s.parentNode.insertBefore(ga, s);\\n          })();\\n            //-->\\n</script>    </body>\\n</html>'\n"
     ]
    }
   ],
   "source": [
    "# atribuindo site para variável\n",
    "url = \"https://portalimoveiscuritiba.com.br/imoveis?nidtbxfin=1&nidtbxtpi=1&nidtagbac=&nidtbxloc=\"\n",
    "\n",
    "# teste de erros\n",
    "headers = {'User-Agent': 'Mozilla/5.0 (Windows NT 10.0; Win64; x64) AppleWebKit/537.36 (KHTML, like Gecko) Chrome/76.0.3809.100 Safari/537.36'}\n",
    "\n",
    "try:\n",
    "    req = Request(url, headers = headers)\n",
    "    response = urlopen(req, timeout=20)\n",
    "    print(response.read())\n",
    "\n",
    "except HTTPError as e:\n",
    "    print(e.status, e.reason)\n",
    "\n",
    "except URLError as e:\n",
    "    print(e.reason)"
   ]
  },
  {
   "cell_type": "markdown",
   "id": "b3a6dd46",
   "metadata": {},
   "source": [
    "A conexão foi estabelecida sem erros."
   ]
  },
  {
   "cell_type": "markdown",
   "id": "e16f6eb7",
   "metadata": {},
   "source": [
    "# Scraping"
   ]
  },
  {
   "cell_type": "code",
   "execution_count": 44,
   "id": "c9faad0e",
   "metadata": {},
   "outputs": [],
   "source": [
    "# obtendo dados da HTML\n",
    "response = urlopen(url, timeout=20) \n",
    "html = response.read().decode('utf-8') \n",
    "\n",
    "# tratamento de dados da html: eliminar espaços entre as TAGs\n",
    "html = html.join(input.split()).replace('> <', '><')\n",
    "\n",
    "# criação do objeto BeautifulSoup\n",
    "soup = BeautifulSoup(html, 'html.parser')\n",
    "pages = int(soup.find('div', class_='pagerfanta').get_text().split()[-1].split('...')[-1])\n",
    "\n",
    "# declarando variável cards que armazenará conteúdo do dataset\n",
    "cards = []\n",
    "\n",
    "# iterando todas as páginas do site\n",
    "for i in range(pages):\n",
    "    \n",
    "    # obtendo o HTML\n",
    "    response = urlopen('https://portalimoveiscuritiba.com.br/imoveis?nidtbxfin=1&nidtbxtpi=1&nidtagbac=&nidtbxloc=&page=' + str(i + 1))\n",
    "    html = response.read().decode('utf-8')\n",
    "    soup = BeautifulSoup(html, 'html.parser')\n",
    "    \n",
    "    # obtendo as TAGs de interesse: todos os imóveis anunciados\n",
    "    ads = soup.find('div', class_=\"tl-filterOuter\").findAll('div', class_=\"row\")\n",
    "    \n",
    "    for ad in ads:\n",
    "        card = {}\n",
    "\n",
    "        # Valor\n",
    "        card['price'] = ad.find('h3', {'class': 'price'}).getText()\n",
    "\n",
    "        # Localização\n",
    "        address = ad.find('span', {'class': 'address'}).getText().split(' - ')\n",
    "        card['city'] = address[0].lower()\n",
    "        card['neighborhood'] = address[-1].lower()\n",
    "        \n",
    "        # Quartos e Garagens\n",
    "        info = ad.find('ul', {'class': 'tl-meta-listed'}).get_text().split()\n",
    "        card['bedrooms'] = info[1]\n",
    "        card['garage'] = info[-1]\n",
    "        \n",
    "        # Adicionando resultado à lista cards\n",
    "        cards.append(card)    "
   ]
  },
  {
   "cell_type": "markdown",
   "id": "2d06bd24",
   "metadata": {},
   "source": [
    "# Ficheiro CSV"
   ]
  },
  {
   "cell_type": "code",
   "execution_count": null,
   "id": "8c866551",
   "metadata": {},
   "outputs": [],
   "source": [
    "# Criando um DataFrame com os resultados\n",
    "dataset = pd.DataFrame(cards)\n",
    "dataset['bedrooms'][dataset['bedrooms'] == 'Garagens'] = None\n",
    "dataset['garage'][dataset['garage'] == 'Garagens'] = None\n",
    "dataset.to_csv('./imoveis.csv', sep=';', index = False, encoding = 'utf-8-sig')"
   ]
  },
  {
   "cell_type": "code",
   "execution_count": 45,
   "id": "9615c236",
   "metadata": {},
   "outputs": [
    {
     "data": {
      "text/plain": [
       "2823"
      ]
     },
     "execution_count": 45,
     "metadata": {},
     "output_type": "execute_result"
    }
   ],
   "source": [
    "# quantidade de cards obtidos \n",
    "len(cards)"
   ]
  },
  {
   "cell_type": "code",
   "execution_count": 46,
   "id": "3d6ac418",
   "metadata": {},
   "outputs": [
    {
     "data": {
      "text/plain": [
       "(2823, 5)"
      ]
     },
     "execution_count": 46,
     "metadata": {},
     "output_type": "execute_result"
    }
   ],
   "source": [
    "# quantidade de linhas e colunas do dataset\n",
    "dataset.shape"
   ]
  },
  {
   "cell_type": "code",
   "execution_count": 47,
   "id": "bcfac484",
   "metadata": {},
   "outputs": [
    {
     "data": {
      "text/html": [
       "<div>\n",
       "<style scoped>\n",
       "    .dataframe tbody tr th:only-of-type {\n",
       "        vertical-align: middle;\n",
       "    }\n",
       "\n",
       "    .dataframe tbody tr th {\n",
       "        vertical-align: top;\n",
       "    }\n",
       "\n",
       "    .dataframe thead th {\n",
       "        text-align: right;\n",
       "    }\n",
       "</style>\n",
       "<table border=\"1\" class=\"dataframe\">\n",
       "  <thead>\n",
       "    <tr style=\"text-align: right;\">\n",
       "      <th></th>\n",
       "      <th>price</th>\n",
       "      <th>city</th>\n",
       "      <th>neighborhood</th>\n",
       "      <th>bedrooms</th>\n",
       "      <th>garage</th>\n",
       "    </tr>\n",
       "  </thead>\n",
       "  <tbody>\n",
       "    <tr>\n",
       "      <th>0</th>\n",
       "      <td>R$ 189.000,00</td>\n",
       "      <td>araucária</td>\n",
       "      <td>iguaçu</td>\n",
       "      <td>2</td>\n",
       "      <td>1</td>\n",
       "    </tr>\n",
       "    <tr>\n",
       "      <th>1</th>\n",
       "      <td>R$ 310.000,00</td>\n",
       "      <td>araucária</td>\n",
       "      <td>centro</td>\n",
       "      <td>2</td>\n",
       "      <td>1</td>\n",
       "    </tr>\n",
       "    <tr>\n",
       "      <th>2</th>\n",
       "      <td>R$ 194.000,00</td>\n",
       "      <td>curitiba</td>\n",
       "      <td>santa cândida</td>\n",
       "      <td>2</td>\n",
       "      <td>1</td>\n",
       "    </tr>\n",
       "    <tr>\n",
       "      <th>3</th>\n",
       "      <td>R$ 3.850.000,00</td>\n",
       "      <td>curitiba</td>\n",
       "      <td>ecoville</td>\n",
       "      <td>4</td>\n",
       "      <td>4</td>\n",
       "    </tr>\n",
       "    <tr>\n",
       "      <th>4</th>\n",
       "      <td>R$ 2.712.000,00</td>\n",
       "      <td>curitiba</td>\n",
       "      <td>ecoville</td>\n",
       "      <td>3</td>\n",
       "      <td>4</td>\n",
       "    </tr>\n",
       "    <tr>\n",
       "      <th>...</th>\n",
       "      <td>...</td>\n",
       "      <td>...</td>\n",
       "      <td>...</td>\n",
       "      <td>...</td>\n",
       "      <td>...</td>\n",
       "    </tr>\n",
       "    <tr>\n",
       "      <th>2818</th>\n",
       "      <td>R$ 399.000,00</td>\n",
       "      <td>curitiba</td>\n",
       "      <td>água verde</td>\n",
       "      <td>2</td>\n",
       "      <td>1</td>\n",
       "    </tr>\n",
       "    <tr>\n",
       "      <th>2819</th>\n",
       "      <td>R$ 220.000,00</td>\n",
       "      <td>curitiba</td>\n",
       "      <td>portão</td>\n",
       "      <td>None</td>\n",
       "      <td>None</td>\n",
       "    </tr>\n",
       "    <tr>\n",
       "      <th>2820</th>\n",
       "      <td>R$ 2.732.353,00</td>\n",
       "      <td>curitiba</td>\n",
       "      <td>batel</td>\n",
       "      <td>4</td>\n",
       "      <td>4</td>\n",
       "    </tr>\n",
       "    <tr>\n",
       "      <th>2821</th>\n",
       "      <td>R$ 6.680.000,00</td>\n",
       "      <td>curitiba</td>\n",
       "      <td>ecoville</td>\n",
       "      <td>4</td>\n",
       "      <td>6</td>\n",
       "    </tr>\n",
       "    <tr>\n",
       "      <th>2822</th>\n",
       "      <td>R$ 165.000,00</td>\n",
       "      <td>araucária</td>\n",
       "      <td>capela velha</td>\n",
       "      <td>2</td>\n",
       "      <td>1</td>\n",
       "    </tr>\n",
       "  </tbody>\n",
       "</table>\n",
       "<p>2823 rows × 5 columns</p>\n",
       "</div>"
      ],
      "text/plain": [
       "                price       city   neighborhood bedrooms garage\n",
       "0       R$ 189.000,00  araucária         iguaçu        2      1\n",
       "1       R$ 310.000,00  araucária         centro        2      1\n",
       "2       R$ 194.000,00   curitiba  santa cândida        2      1\n",
       "3     R$ 3.850.000,00   curitiba       ecoville        4      4\n",
       "4     R$ 2.712.000,00   curitiba       ecoville        3      4\n",
       "...               ...        ...            ...      ...    ...\n",
       "2818    R$ 399.000,00   curitiba     água verde        2      1\n",
       "2819    R$ 220.000,00   curitiba         portão     None   None\n",
       "2820  R$ 2.732.353,00   curitiba          batel        4      4\n",
       "2821  R$ 6.680.000,00   curitiba       ecoville        4      6\n",
       "2822    R$ 165.000,00  araucária   capela velha        2      1\n",
       "\n",
       "[2823 rows x 5 columns]"
      ]
     },
     "execution_count": 47,
     "metadata": {},
     "output_type": "execute_result"
    }
   ],
   "source": [
    "# visualização do dataset\n",
    "dataset"
   ]
  },
  {
   "cell_type": "code",
   "execution_count": 48,
   "id": "6deded97",
   "metadata": {},
   "outputs": [
    {
     "name": "stdout",
     "output_type": "stream",
     "text": [
      "<class 'pandas.core.frame.DataFrame'>\n",
      "RangeIndex: 2823 entries, 0 to 2822\n",
      "Data columns (total 5 columns):\n",
      " #   Column        Non-Null Count  Dtype \n",
      "---  ------        --------------  ----- \n",
      " 0   price         2823 non-null   object\n",
      " 1   city          2823 non-null   object\n",
      " 2   neighborhood  2823 non-null   object\n",
      " 3   bedrooms      2787 non-null   object\n",
      " 4   garage        2696 non-null   object\n",
      "dtypes: object(5)\n",
      "memory usage: 110.4+ KB\n"
     ]
    }
   ],
   "source": [
    "# informações sobre o dataset\n",
    "dataset.info()"
   ]
  },
  {
   "cell_type": "code",
   "execution_count": 49,
   "id": "f02bf43a",
   "metadata": {},
   "outputs": [
    {
     "data": {
      "text/html": [
       "<div>\n",
       "<style scoped>\n",
       "    .dataframe tbody tr th:only-of-type {\n",
       "        vertical-align: middle;\n",
       "    }\n",
       "\n",
       "    .dataframe tbody tr th {\n",
       "        vertical-align: top;\n",
       "    }\n",
       "\n",
       "    .dataframe thead th {\n",
       "        text-align: right;\n",
       "    }\n",
       "</style>\n",
       "<table border=\"1\" class=\"dataframe\">\n",
       "  <thead>\n",
       "    <tr style=\"text-align: right;\">\n",
       "      <th></th>\n",
       "      <th>price</th>\n",
       "      <th>city</th>\n",
       "      <th>neighborhood</th>\n",
       "      <th>bedrooms</th>\n",
       "      <th>garage</th>\n",
       "    </tr>\n",
       "  </thead>\n",
       "  <tbody>\n",
       "    <tr>\n",
       "      <th>count</th>\n",
       "      <td>2823</td>\n",
       "      <td>2823</td>\n",
       "      <td>2823</td>\n",
       "      <td>2787</td>\n",
       "      <td>2696</td>\n",
       "    </tr>\n",
       "    <tr>\n",
       "      <th>unique</th>\n",
       "      <td>1433</td>\n",
       "      <td>12</td>\n",
       "      <td>141</td>\n",
       "      <td>7</td>\n",
       "      <td>9</td>\n",
       "    </tr>\n",
       "    <tr>\n",
       "      <th>top</th>\n",
       "      <td>R$ 220.000,00</td>\n",
       "      <td>curitiba</td>\n",
       "      <td>água verde</td>\n",
       "      <td>3</td>\n",
       "      <td>1</td>\n",
       "    </tr>\n",
       "    <tr>\n",
       "      <th>freq</th>\n",
       "      <td>26</td>\n",
       "      <td>2412</td>\n",
       "      <td>332</td>\n",
       "      <td>1244</td>\n",
       "      <td>1321</td>\n",
       "    </tr>\n",
       "  </tbody>\n",
       "</table>\n",
       "</div>"
      ],
      "text/plain": [
       "                price      city neighborhood bedrooms garage\n",
       "count            2823      2823         2823     2787   2696\n",
       "unique           1433        12          141        7      9\n",
       "top     R$ 220.000,00  curitiba   água verde        3      1\n",
       "freq               26      2412          332     1244   1321"
      ]
     },
     "execution_count": 49,
     "metadata": {},
     "output_type": "execute_result"
    }
   ],
   "source": [
    "# estatísticas descritivas do dataset\n",
    "dataset.describe()"
   ]
  }
 ],
 "metadata": {
  "kernelspec": {
   "display_name": "Python 3",
   "language": "python",
   "name": "python3"
  },
  "language_info": {
   "codemirror_mode": {
    "name": "ipython",
    "version": 3
   },
   "file_extension": ".py",
   "mimetype": "text/x-python",
   "name": "python",
   "nbconvert_exporter": "python",
   "pygments_lexer": "ipython3",
   "version": "3.8.8"
  },
  "varInspector": {
   "cols": {
    "lenName": 16,
    "lenType": 16,
    "lenVar": 40
   },
   "kernels_config": {
    "python": {
     "delete_cmd_postfix": "",
     "delete_cmd_prefix": "del ",
     "library": "var_list.py",
     "varRefreshCmd": "print(var_dic_list())"
    },
    "r": {
     "delete_cmd_postfix": ") ",
     "delete_cmd_prefix": "rm(",
     "library": "var_list.r",
     "varRefreshCmd": "cat(var_dic_list()) "
    }
   },
   "types_to_exclude": [
    "module",
    "function",
    "builtin_function_or_method",
    "instance",
    "_Feature"
   ],
   "window_display": false
  }
 },
 "nbformat": 4,
 "nbformat_minor": 5
}
